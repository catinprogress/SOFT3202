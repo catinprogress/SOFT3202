{
  "metadata": {
    "kernelspec": {
      "name": "python",
      "display_name": "Python (Pyodide)",
      "language": "python"
    },
    "language_info": {
      "codemirror_mode": {
        "name": "python",
        "version": 3
      },
      "file_extension": ".py",
      "mimetype": "text/x-python",
      "name": "python",
      "nbconvert_exporter": "python",
      "pygments_lexer": "ipython3",
      "version": "3.8"
    }
  },
  "nbformat_minor": 5,
  "nbformat": 4,
  "cells": [
    {
      "id": "8381a58b-ba0f-4cf8-a08b-5ab975a161d1",
      "cell_type": "markdown",
      "source": "# This is a demonstration",
      "metadata": {}
    },
    {
      "id": "b440bee9-5010-4177-b2ab-2e9d0e7b0d4a",
      "cell_type": "code",
      "source": "import sys",
      "metadata": {
        "trusted": true
      },
      "outputs": [],
      "execution_count": 1
    },
    {
      "id": "8ac8595c-799e-4055-8d52-f36dcbeabfc8",
      "cell_type": "code",
      "source": "print(sys.version)",
      "metadata": {
        "trusted": true
      },
      "outputs": [
        {
          "name": "stdout",
          "output_type": "stream",
          "text": "3.12.7 (main, Dec 31 2024, 17:05:22) [Clang 19.0.0git (https:/github.com/llvm/llvm-project 0a8cd1ed1f4f35905df318015b\n"
        }
      ],
      "execution_count": 2
    },
    {
      "id": "ec7fae16-3768-41ed-a0d1-df96ea8fa388",
      "cell_type": "markdown",
      "source": "# Inheritance",
      "metadata": {}
    },
    {
      "id": "c7dc7811-9adf-458d-9317-5ef77ac592ef",
      "cell_type": "code",
      "source": "class Book:\n    def __init__(self, title, author):\n        self.title = title\n        self.author = author\n\n    def __str__(self):\n        return(f\"Title: {self.title}\\nAuthor: {self.author}\")\n\nb = Book(\"1984\", \"George Orwell\")\nassert str(b) == \"\"\"Title: 1984\nAuthor: George Orwell\"\"\", \"Was not Equal\"\nprint('done')",
      "metadata": {
        "trusted": true
      },
      "outputs": [
        {
          "name": "stdout",
          "output_type": "stream",
          "text": "done\n"
        }
      ],
      "execution_count": 33
    },
    {
      "id": "2e3c5b82-2b57-441b-99ea-8d099803648e",
      "cell_type": "code",
      "source": "class User:\n    def __init__(self, name):\n        self.name = name\n\n    # note: Python supports `stringification` of objects with `str` and `repr`.\n    # can you convert the `display()` to make the object correctly stringified?\n    def __str__(self):\n        return(f\"User: {self.name}\")",
      "metadata": {
        "trusted": true
      },
      "outputs": [],
      "execution_count": 4
    },
    {
      "id": "543120b1-accc-471b-a0e2-77e5457d0c96",
      "cell_type": "code",
      "source": "user = User('Mary')",
      "metadata": {
        "trusted": true
      },
      "outputs": [],
      "execution_count": 5
    },
    {
      "id": "698b69ac-d598-41c2-9aad-cffc945ba7a3",
      "cell_type": "code",
      "source": "str(user)",
      "metadata": {
        "trusted": true
      },
      "outputs": [
        {
          "execution_count": 6,
          "output_type": "execute_result",
          "data": {
            "text/plain": "'User: Mary'"
          },
          "metadata": {}
        }
      ],
      "execution_count": 6
    },
    {
      "id": "315aa246-69ba-4a14-9f14-9b42ff1a5742",
      "cell_type": "code",
      "source": "class Librarian(User):\n    def __init__(self, name, employee_id):\n        super().__init__(name)\n        self.employee_id = employee_id\n\n    def __str__(self):\n        return(f\"Librarian: {self.name}, ID: {self.employee_id}\")",
      "metadata": {
        "trusted": true
      },
      "outputs": [],
      "execution_count": 7
    },
    {
      "id": "2badf1e3-2d4a-4d9e-99ed-13ecaffb2a93",
      "cell_type": "code",
      "source": "librarian = Librarian('Mary', 100)",
      "metadata": {
        "trusted": true
      },
      "outputs": [],
      "execution_count": 8
    },
    {
      "id": "3b3c17c9-d37b-4284-a65d-1f8ed7b83dac",
      "cell_type": "code",
      "source": "librarian",
      "metadata": {
        "trusted": true
      },
      "outputs": [
        {
          "execution_count": 9,
          "output_type": "execute_result",
          "data": {
            "text/plain": "<__main__.Librarian at 0x225fbd0>"
          },
          "metadata": {}
        }
      ],
      "execution_count": 9
    },
    {
      "id": "46072a2a-8894-489a-871f-111c28da23f5",
      "cell_type": "code",
      "source": "#import unittest\n#class TestInheritance(unittest.TestCase):\n#    def test_user_display(self):\n#        user = User('Jane')\n#        self.assertEqual(str(user), 'User: Jane')",
      "metadata": {
        "trusted": true
      },
      "outputs": [],
      "execution_count": 10
    },
    {
      "id": "eb11755c-5b17-42e8-acb7-02a6c3da67ba",
      "cell_type": "code",
      "source": "#try:\n#    unittest.main()\n#except:\n#    pass",
      "metadata": {
        "trusted": true
      },
      "outputs": [],
      "execution_count": 16
    },
    {
      "id": "2cfe22b7-905c-4fa9-942d-84b8805c7161",
      "cell_type": "code",
      "source": "import unittest",
      "metadata": {
        "trusted": true
      },
      "outputs": [],
      "execution_count": 17
    },
    {
      "id": "b5738287-48ea-4fa4-9ca0-1bd0912a49e7",
      "cell_type": "markdown",
      "source": "# Polymorphism",
      "metadata": {}
    },
    {
      "id": "39077e4d-7884-411d-a559-9daf96a369dc",
      "cell_type": "code",
      "source": "class Member:\n    def __init__(self, name, member_id):\n        self.__name = name\n        self.__member_id = member_id\n        self._borrowed = []\n\n    @property\n    def name(self):\n        return self.__name\n\n    @name.setter\n    def name(self, new_name):\n        self.__name = new_name",
      "metadata": {
        "trusted": true
      },
      "outputs": [],
      "execution_count": 23
    },
    {
      "id": "b42c2fee-f479-453a-8cd8-181ada13901e",
      "cell_type": "code",
      "source": "",
      "metadata": {
        "trusted": true
      },
      "outputs": [],
      "execution_count": null
    },
    {
      "id": "720f63a6-451a-4491-bb7c-42102ebef959",
      "cell_type": "code",
      "source": "class LibUser(Member):\n    def borrow(self, book):\n        self._borrowed.append((book, 7))",
      "metadata": {
        "trusted": true
      },
      "outputs": [],
      "execution_count": 36
    },
    {
      "id": "db83a473-7804-4d80-b5fc-73a712bb6fda",
      "cell_type": "code",
      "source": "class TestPolymorphism(unittest.TestCase):\n    def test_user_borrow(self):\n        user = LibUser('Jacob', 101)\n        book = Book('1994', 'GeorgeOrwell')\n        user.borrow(book)\n        self.assertEqual(str(user._borrowed[0][0]), str(book))",
      "metadata": {
        "trusted": true
      },
      "outputs": [],
      "execution_count": 40
    },
    {
      "id": "21b8b4a4-a8c6-4ca0-8cff-32ed3ce893ce",
      "cell_type": "code",
      "source": "unittest.main()",
      "metadata": {
        "trusted": true
      },
      "outputs": [
        {
          "name": "stderr",
          "output_type": "stream",
          "text": ".\n----------------------------------------------------------------------\nRan 1 test in 0.001s\n\nOK\n/lib/python3.12/site-packages/IPython/core/interactiveshell.py:3585: UserWarning: To exit: use 'exit', 'quit', or Ctrl-D.\n  warn(\"To exit: use 'exit', 'quit', or Ctrl-D.\", stacklevel=1)\n"
        },
        {
          "ename": "<class 'SystemExit'>",
          "evalue": "0",
          "traceback": [
            "An exception has occurred, use %tb to see the full traceback.\n",
            "\u001b[0;31mSystemExit\u001b[0m\u001b[0;31m:\u001b[0m 0\n"
          ],
          "output_type": "error"
        }
      ],
      "execution_count": 41
    },
    {
      "id": "18a23296-76a8-41ee-9113-df39bf9b229c",
      "cell_type": "code",
      "source": "class Student(Member):\n    def borrow(self, book):\n        self._borrowed.append((book, 14))",
      "metadata": {
        "trusted": true
      },
      "outputs": [],
      "execution_count": 42
    },
    {
      "id": "f9ab9173-b8b5-4e9a-8592-e16feb4f0dd3",
      "cell_type": "code",
      "source": "class TestPolymorphism(unittest.TestCase):\n    def test_user_borrow(self):\n        user = Student('Jacob', 101)\n        book = Book('1994', 'GeorgeOrwell')\n        user.borrow(book)\n        self.assertEqual(str(user._borrowed[0][0]), str(book))",
      "metadata": {
        "trusted": true
      },
      "outputs": [],
      "execution_count": 45
    },
    {
      "id": "b98cb4c3-3633-447a-8856-572997625ad3",
      "cell_type": "code",
      "source": "unittest.main()",
      "metadata": {
        "trusted": true
      },
      "outputs": [
        {
          "name": "stderr",
          "output_type": "stream",
          "text": ".\n----------------------------------------------------------------------\nRan 1 test in 0.000s\n\nOK\n/lib/python3.12/site-packages/IPython/core/interactiveshell.py:3585: UserWarning: To exit: use 'exit', 'quit', or Ctrl-D.\n  warn(\"To exit: use 'exit', 'quit', or Ctrl-D.\", stacklevel=1)\n"
        },
        {
          "ename": "<class 'SystemExit'>",
          "evalue": "0",
          "traceback": [
            "An exception has occurred, use %tb to see the full traceback.\n",
            "\u001b[0;31mSystemExit\u001b[0m\u001b[0;31m:\u001b[0m 0\n"
          ],
          "output_type": "error"
        }
      ],
      "execution_count": 46
    }
  ]
}